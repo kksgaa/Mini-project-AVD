{
  "nbformat": 4,
  "nbformat_minor": 0,
  "metadata": {
    "colab": {
      "provenance": [],
      "authorship_tag": "ABX9TyOhKVGLN/jddumKb68fOg/t",
      "include_colab_link": true
    },
    "kernelspec": {
      "name": "python3",
      "display_name": "Python 3"
    },
    "language_info": {
      "name": "python"
    }
  },
  "cells": [
    {
      "cell_type": "markdown",
      "metadata": {
        "id": "view-in-github",
        "colab_type": "text"
      },
      "source": [
        "<a href=\"https://colab.research.google.com/github/kksgaa/Mini-project-AVD/blob/main/mini_project_AVD.ipynb\" target=\"_parent\"><img src=\"https://colab.research.google.com/assets/colab-badge.svg\" alt=\"Open In Colab\"/></a>"
      ]
    },
    {
      "cell_type": "markdown",
      "source": [
        "#MINI PROJECT 1"
      ],
      "metadata": {
        "id": "EBw9t4XO0sy2"
      }
    },
    {
      "cell_type": "markdown",
      "source": [
        "## 1. BUSINESS UNDERSTANDING\n",
        "## Tujuan Bisnis\n",
        "Anime adalah bentuk hiburan yang sangat populer di seluruh dunia. Setiap anime memiliki tema berbeda, seperti persahabatan, perang, atau revolusi. Popularitas anime sering dikaitkan dengan tema yang diangkat. Oleh karena itu, analisis ini bertujuan untuk mengidentifikasi tema anime yang paling populer berdasarkan rating.\n",
        "\n",
        "## Tujuan Analitik\n",
        "Analisis ini bertujuan untuk menemukan pola tema anime yang memiliki rating tinggi. Fokus utama adalah mengidentifikasi tema yang paling sering muncul dalam anime dengan rating tinggi dan melihat apakah ada tema tertentu yang lebih disukai oleh penonton.\n",
        "\n",
        "## Menilai Situasi\n",
        "Dataset yang digunakan berisi informasi tentang berbagai anime, termasuk genre, tema, jumlah episode, dan rating. Tantangan yang mungkin dihadapi adalah data yang tidak lengkap atau tidak valid serta variasi dalam penamaan tema yang dapat memengaruhi hasil analisis.\n",
        "\n",
        "## Perencanaan Proyek   \n",
        "\n",
        "Tahap pertama adalah Pemahaman Data, di mana kita akan menelusuri dataset untuk mengenali struktur data serta melihat variasi tema dan rating anime.  \n",
        "\n",
        "Tahap kedua adalah Persiapan Data, yang mencakup proses pembersihan, penanganan nilai yang hilang, serta memastikan format data sesuai untuk analisis.  \n",
        "\n",
        "Tahap ketiga adalah Pemodelan, yaitu tahap analisis dan visualisasi guna mengidentifikasi pola hubungan antara tema dan rating.  \n",
        "\n",
        "Tahap terakhir adalah Evaluasi, di mana kita menarik kesimpulan dari hasil analisis serta menyusun rekomendasi berdasarkan temuan yang diperoleh.  "
      ],
      "metadata": {
        "id": "HyOFNjM733y7"
      }
    }
  ]
}