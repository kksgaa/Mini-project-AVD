{
  "nbformat": 4,
  "nbformat_minor": 0,
  "metadata": {
    "colab": {
      "provenance": [],
      "authorship_tag": "ABX9TyPDwAX6dw77ZOisuE+YieVB",
      "include_colab_link": true
    },
    "kernelspec": {
      "name": "python3",
      "display_name": "Python 3"
    },
    "language_info": {
      "name": "python"
    }
  },
  "cells": [
    {
      "cell_type": "markdown",
      "metadata": {
        "id": "view-in-github",
        "colab_type": "text"
      },
      "source": [
        "<a href=\"https://colab.research.google.com/github/kksgaa/Mini-project-AVD/blob/main/mini_project_AVD%201.ipynb\" target=\"_parent\"><img src=\"https://colab.research.google.com/assets/colab-badge.svg\" alt=\"Open In Colab\"/></a>"
      ]
    },
    {
      "cell_type": "markdown",
      "source": [
        "#MINI PROJECT 1"
      ],
      "metadata": {
        "id": "EBw9t4XO0sy2"
      }
    },
    {
      "cell_type": "markdown",
      "source": [
        "##DATASET"
      ],
      "metadata": {
        "id": "yrlDb8Xg_noz"
      }
    },
    {
      "cell_type": "code",
      "source": [
        "from google.colab import drive\n",
        "drive.mount('/content/drive')"
      ],
      "metadata": {
        "colab": {
          "base_uri": "https://localhost:8080/"
        },
        "id": "QZiI6kmt-zAh",
        "outputId": "25983b6d-21ce-4908-abfd-9d83fa0d2f03"
      },
      "execution_count": 3,
      "outputs": [
        {
          "output_type": "stream",
          "name": "stdout",
          "text": [
            "Mounted at /content/drive\n"
          ]
        }
      ]
    },
    {
      "cell_type": "code",
      "source": [
        "import pandas as pd"
      ],
      "metadata": {
        "id": "PP282BW--Jti"
      },
      "execution_count": 1,
      "outputs": []
    },
    {
      "cell_type": "code",
      "source": [
        "df = pd.read_csv(\"/content/drive/MyDrive/pratikum/anime_dataset.csv\")"
      ],
      "metadata": {
        "id": "uOCfn9vi-sS0"
      },
      "execution_count": 4,
      "outputs": []
    },
    {
      "cell_type": "code",
      "source": [
        "df"
      ],
      "metadata": {
        "id": "DqgvvsMG_GaX"
      },
      "execution_count": null,
      "outputs": []
    },
    {
      "cell_type": "markdown",
      "source": [
        "##BUSINESS UNDERSTANDING"
      ],
      "metadata": {
        "id": "oHG8ZekB_rhs"
      }
    },
    {
      "cell_type": "markdown",
      "source": [
        "Tujuan Bisnis\n",
        "\n",
        "Anime adalah bentuk hiburan yang sangat populer di seluruh dunia. Setiap anime memiliki tema berbeda, seperti persahabatan, perang, atau revolusi. Popularitas anime sering dikaitkan dengan tema yang diangkat. Oleh karena itu, analisis ini bertujuan untuk mengidentifikasi tema anime yang paling populer berdasarkan rating.\n",
        "\n",
        " Tujuan Analitik\n",
        "\n",
        "Analisis ini bertujuan untuk menemukan pola tema anime yang memiliki rating tinggi. Fokus utama adalah mengidentifikasi tema yang paling sering muncul dalam anime dengan rating tinggi dan melihat apakah ada tema tertentu yang lebih disukai oleh penonton.\n",
        "\n",
        "\n",
        " Menilai Situasi\n",
        "\n",
        "Dataset yang digunakan berisi informasi tentang berbagai anime, termasuk genre, tema, jumlah episode, dan rating. Tantangan yang mungkin dihadapi adalah data yang tidak lengkap atau tidak valid serta variasi dalam penamaan tema yang dapat memengaruhi hasil analisis.\n",
        "\n",
        "\n",
        " Perencanaan Proyek   \n",
        "\n",
        "1. Tahap pertama adalah Pemahaman Data, di mana kita akan menelusuri dataset untuk mengenali struktur data serta melihat variasi tema dan rating anime.  \n",
        "\n",
        "2. Tahap kedua adalah Persiapan Data, yang mencakup proses pembersihan, penanganan nilai yang hilang, serta memastikan format data sesuai untuk analisis.  \n",
        "\n",
        "3. Tahap ketiga adalah Pemodelan, yaitu tahap analisis dan visualisasi guna mengidentifikasi pola hubungan antara tema dan rating.  \n",
        "\n",
        "4. Tahap terakhir adalah Evaluasi, di mana kita menarik kesimpulan dari hasil analisis serta menyusun rekomendasi berdasarkan temuan yang diperoleh.  \n",
        "\n",
        "\n"
      ],
      "metadata": {
        "id": "HyOFNjM733y7"
      }
    }
  ]
}